{
 "cells": [
  {
   "cell_type": "markdown",
   "metadata": {},
   "source": [
    "# NUMPY GRUNDLAGEN"
   ]
  },
  {
   "cell_type": "code",
   "execution_count": 1,
   "metadata": {},
   "outputs": [],
   "source": [
    "x = [1,2,3,4,5,6,7,8,9,10]"
   ]
  },
  {
   "cell_type": "code",
   "execution_count": 2,
   "metadata": {},
   "outputs": [],
   "source": [
    "#list comprehension geht jeden wert von x durch und qudriert diese in einer liste\n",
    "y = [i ** 2 for i in x]\n",
    "#y = [i - 2 for i in x]"
   ]
  },
  {
   "cell_type": "code",
   "execution_count": 3,
   "metadata": {},
   "outputs": [],
   "source": [
    "y"
   ]
  },
  {
   "cell_type": "code",
   "execution_count": 4,
   "metadata": {},
   "outputs": [],
   "source": [
    "#anlegen eines numpy array\n",
    "#immer as array verwenden es kann sonst zu fehler führen beim einbinden von matplotlib\n",
    "import numpy as np\n",
    "#nicht ARRAY() beim konvertieren oder erstellen verwenden sondern ASARRAY\n",
    "x1=np.asarray([0,1,2,3,4,5,6,7,8,9,10])\n",
    "x1=np.asarray([0,1,2,3,4,5,6,7,8,9,10],dtype=int)\n",
    "x2=np.linspace(1,10,10)\n",
    "x3=np.asarray(np.arange(1,11,1))\n",
    "x3=np.asarray(np.arange(1,11,1),dtype=float)"
   ]
  },
  {
   "cell_type": "code",
   "execution_count": 5,
   "metadata": {},
   "outputs": [],
   "source": [
    "#halbe schritttlaenge\n",
    "print(np.asarray(np.arange(1,11,0.5)))"
   ]
  },
  {
   "cell_type": "code",
   "execution_count": 6,
   "metadata": {},
   "outputs": [],
   "source": [
    "print(x1)\n",
    "print(x2)\n",
    "print(x3)"
   ]
  },
  {
   "cell_type": "code",
   "execution_count": 7,
   "metadata": {},
   "outputs": [],
   "source": [
    "#mathematische operation auf numpy arrays\n",
    "y1 = x1 ** 2\n",
    "y2 = x2 ** 2\n",
    "y3 = x3 ** 2"
   ]
  },
  {
   "cell_type": "code",
   "execution_count": 8,
   "metadata": {},
   "outputs": [],
   "source": [
    "print(y1)\n",
    "print(y2)\n",
    "print(y3)"
   ]
  },
  {
   "cell_type": "code",
   "execution_count": 9,
   "metadata": {},
   "outputs": [],
   "source": [
    "# angenehmer als berechnung in list comprehension\n",
    "y4 = x1 ** 2 -4\n",
    "print(y4)"
   ]
  },
  {
   "cell_type": "code",
   "execution_count": 10,
   "metadata": {},
   "outputs": [],
   "source": [
    "print(np.zeros(10))\n",
    "print(np.ones(10))"
   ]
  },
  {
   "cell_type": "code",
   "execution_count": 11,
   "metadata": {},
   "outputs": [],
   "source": [
    "#diese gesamten operationen können auch vektorisiert verwendet werden\n",
    "#np.array + np.array -> elementweise\n",
    "xs=np.asarray([1,5,9])\n",
    "a=np.arange(1,4)\n",
    "print(xs)\n",
    "print(a)\n",
    "print(xs+9)"
   ]
  },
  {
   "cell_type": "code",
   "execution_count": 12,
   "metadata": {},
   "outputs": [],
   "source": [
    "#logische operationen auf np.array\n",
    "print(xs>=a)"
   ]
  },
  {
   "cell_type": "code",
   "execution_count": 13,
   "metadata": {},
   "outputs": [],
   "source": [
    "#vorraussetzung ist das die shape miteinander übereinstimmt\n",
    "y=np.asarray([1,2,3])\n",
    "z=np.linspace(1,5,10)"
   ]
  },
  {
   "cell_type": "code",
   "execution_count": 14,
   "metadata": {},
   "outputs": [],
   "source": [
    "print(z)"
   ]
  },
  {
   "cell_type": "code",
   "execution_count": 15,
   "metadata": {},
   "outputs": [
    {
     "ename": "ValueError",
     "evalue": "operands could not be broadcast together with shapes (3,) (10,) ",
     "output_type": "error",
     "traceback": [
      "\u001b[1;31m---------------------------------------------------------------------------\u001b[0m",
      "\u001b[1;31mValueError\u001b[0m                                Traceback (most recent call last)",
      "\u001b[1;32m<ipython-input-15-7c782166944c>\u001b[0m in \u001b[0;36m<module>\u001b[1;34m\u001b[0m\n\u001b[0;32m      1\u001b[0m \u001b[1;31m#bewusste Fehlermeldung erzeugen\u001b[0m\u001b[1;33m\u001b[0m\u001b[1;33m\u001b[0m\u001b[1;33m\u001b[0m\u001b[0m\n\u001b[1;32m----> 2\u001b[1;33m \u001b[0mprint\u001b[0m\u001b[1;33m(\u001b[0m\u001b[0my\u001b[0m\u001b[1;33m+\u001b[0m\u001b[0mz\u001b[0m\u001b[1;33m)\u001b[0m\u001b[1;33m\u001b[0m\u001b[1;33m\u001b[0m\u001b[0m\n\u001b[0m",
      "\u001b[1;31mValueError\u001b[0m: operands could not be broadcast together with shapes (3,) (10,) "
     ]
    }
   ],
   "source": [
    "#bewusste Fehlermeldung erzeugen\n",
    "print(y+z)"
   ]
  },
  {
   "cell_type": "code",
   "execution_count": 16,
   "metadata": {},
   "outputs": [],
   "source": [
    "#oberes fürht zur Dimension Fehler deshalb slicing Operator verwenden\n",
    "y=np.asarray([1,2,3])\n",
    "#map reduce?\n",
    "z=np.linspace(1,5,10)[:3]\n",
    "res=y+z"
   ]
  },
  {
   "cell_type": "code",
   "execution_count": 17,
   "metadata": {},
   "outputs": [
    {
     "name": "stdout",
     "output_type": "stream",
     "text": [
      "[2.         3.44444444 4.88888889]\n"
     ]
    }
   ],
   "source": [
    "print(res)"
   ]
  },
  {
   "cell_type": "markdown",
   "metadata": {},
   "source": [
    "## einfaches plotten mit NUMPY und MATPLOTLIB.pyplot"
   ]
  },
  {
   "cell_type": "code",
   "execution_count": 18,
   "metadata": {},
   "outputs": [
    {
     "data": {
      "image/png": "[encoded data removed]",
      "text/plain": [
       "<Figure size 432x288 with 1 Axes>"
      ]
     },
     "metadata": {
      "needs_background": "light"
     },
     "output_type": "display_data"
    }
   ],
   "source": [
    "%matplotlib inline\n",
    "import matplotlib.pyplot as plt\n",
    "#vorraussetzung ist das importieren von numpy libray (matplotlib.pyplot as plt)\n",
    "import numpy as np\n",
    "\n",
    "#liste übergeben\n",
    "#plt.plot([1,2,3])\n",
    "plt.plot([1, 2, 3, 4], [1, 4, 9, 16])\n",
    "#plot wird in jupyter direkt angezeigt siehe erste zeile code, \n",
    "#bei normalen python programm kann es sein dass nocht ein plt.show() benötigt würde \n",
    "#damit diese Grafik dann letztendlich angezeigt würde\n",
    "plt.show()"
   ]
  },
  {
   "cell_type": "code",
   "execution_count": 38,
   "metadata": {},
   "outputs": [
    {
     "name": "stdout",
     "output_type": "stream",
     "text": [
      "<class 'numpy.ndarray'>\n",
      "[-3.00000000e+00 -2.90000000e+00 -2.80000000e+00 -2.70000000e+00\n",
      " -2.60000000e+00 -2.50000000e+00 -2.40000000e+00 -2.30000000e+00\n",
      " -2.20000000e+00 -2.10000000e+00 -2.00000000e+00 -1.90000000e+00\n",
      " -1.80000000e+00 -1.70000000e+00 -1.60000000e+00 -1.50000000e+00\n",
      " -1.40000000e+00 -1.30000000e+00 -1.20000000e+00 -1.10000000e+00\n",
      " -1.00000000e+00 -9.00000000e-01 -8.00000000e-01 -7.00000000e-01\n",
      " -6.00000000e-01 -5.00000000e-01 -4.00000000e-01 -3.00000000e-01\n",
      " -2.00000000e-01 -1.00000000e-01  2.66453526e-15  1.00000000e-01\n",
      "  2.00000000e-01  3.00000000e-01  4.00000000e-01  5.00000000e-01\n",
      "  6.00000000e-01  7.00000000e-01  8.00000000e-01  9.00000000e-01\n",
      "  1.00000000e+00  1.10000000e+00  1.20000000e+00  1.30000000e+00\n",
      "  1.40000000e+00  1.50000000e+00  1.60000000e+00  1.70000000e+00\n",
      "  1.80000000e+00  1.90000000e+00  2.00000000e+00  2.10000000e+00\n",
      "  2.20000000e+00  2.30000000e+00  2.40000000e+00  2.50000000e+00\n",
      "  2.60000000e+00  2.70000000e+00  2.80000000e+00  2.90000000e+00]\n"
     ]
    }
   ],
   "source": [
    "import numpy as np\n",
    "#start,stop,schritweite\n",
    "#erzeugen eines numpy arrays\n",
    "xs = np.arange(-3,3,0.1)\n",
    "print(type(xs))\n",
    "print(xs)\n",
    "#commentar zum ergebnis im print: Exponentialschreibweise 2.66 *10hoch-15 um 15 Stellen nach links verschieben"
   ]
  },
  {
   "cell_type": "code",
   "execution_count": 26,
   "metadata": {},
   "outputs": [],
   "source": [
    "#es kommt pro EINZELN berechnung ein numpy array herraus\n",
    "ys=xs**3-xs**2+6"
   ]
  },
  {
   "cell_type": "code",
   "execution_count": 28,
   "metadata": {},
   "outputs": [
    {
     "data": {
      "image/png": "[encoded data removed]",
      "text/plain": [
       "<Figure size 432x288 with 1 Axes>"
      ]
     },
     "metadata": {
      "needs_background": "light"
     },
     "output_type": "display_data"
    }
   ],
   "source": [
    "plt.plot(ys)\n",
    "plt.show()"
   ]
  },
  {
   "cell_type": "code",
   "execution_count": 30,
   "metadata": {},
   "outputs": [
    {
     "data": {
      "image/png": "[encoded data removed]",
      "text/plain": [
       "<Figure size 432x288 with 1 Axes>"
      ]
     },
     "metadata": {
      "needs_background": "light"
     },
     "output_type": "display_data"
    }
   ],
   "source": [
    "#genauigkeit in arrange schrittweite aenderbar\n",
    "xs = np.arange(-3,3,1)\n",
    "ys=xs**3-xs**2+6\n",
    "plt.plot(ys)\n",
    "plt.show()"
   ]
  },
  {
   "cell_type": "code",
   "execution_count": 43,
   "metadata": {},
   "outputs": [
    {
     "data": {
      "image/png": "[encoded data removed]",
      "text/plain": [
       "<Figure size 432x288 with 1 Axes>"
      ]
     },
     "metadata": {
      "needs_background": "light"
     },
     "output_type": "display_data"
    }
   ],
   "source": [
    "#genauigkeit in arrange schrittweite aenderbar\n",
    "#xs = np.arange(-3,3,0.1)\n",
    "xs = np.arange(-3,3,1)\n",
    "ys=xs**3-xs**2+6\n",
    "#scatter benötigt zwei np.arrays als parameter\n",
    "plt.scatter(xs,ys)\n",
    "plt.show()"
   ]
  },
  {
   "cell_type": "code",
   "execution_count": 57,
   "metadata": {},
   "outputs": [
    {
     "name": "stdout",
     "output_type": "stream",
     "text": [
      "[[1 2 3 4 5]\n",
      " [1 2 3 4 5]\n",
      " [1 2 3 4 5]]\n"
     ]
    }
   ],
   "source": [
    "##MATRIX\n",
    "## mehrdimensionale Daten = mehrdimensionales ARRAY\n",
    "import numpy as np\n",
    "#man kann über das numpy array auch verschatelte Listen übergeben\n",
    "xs_tupel=np.array([1,2,3,4,5])\n",
    "xs_matrix=np.array([[1,2,3,4,5],\n",
    "             [1,2,3,4,5],\n",
    "            [1,2,3,4,5]])\n",
    "print(xs)"
   ]
  },
  {
   "cell_type": "code",
   "execution_count": 59,
   "metadata": {},
   "outputs": [
    {
     "name": "stdout",
     "output_type": "stream",
     "text": [
      "(3, 5)\n"
     ]
    }
   ],
   "source": [
    "#FORM der MATRIX AUSGEBEN LASSEN\n",
    "print(xs_matrix.shape)"
   ]
  },
  {
   "cell_type": "code",
   "execution_count": 62,
   "metadata": {},
   "outputs": [
    {
     "name": "stdout",
     "output_type": "stream",
     "text": [
      "(5,)\n"
     ]
    }
   ],
   "source": [
    "#FORM des Tupels AUSGEBEN LASSEN\n",
    "#TUPEL = EINDIMENSIONALE MATRIX\n",
    "#wenn mehrdimensional dann steht hinter dem tupel irgendetwas\n",
    "print(xs_tupel.shape)"
   ]
  },
  {
   "cell_type": "code",
   "execution_count": 65,
   "metadata": {},
   "outputs": [
    {
     "name": "stdout",
     "output_type": "stream",
     "text": [
      "2\n"
     ]
    }
   ],
   "source": [
    "#zugreifen auf tupel\n",
    "print(xs_tupel[1])"
   ]
  },
  {
   "cell_type": "code",
   "execution_count": 68,
   "metadata": {},
   "outputs": [
    {
     "name": "stdout",
     "output_type": "stream",
     "text": [
      "[1 2 3 4 5]\n",
      "[1 2 3 4 5]\n"
     ]
    }
   ],
   "source": [
    "#ZUGREIFEN auf MATRIX\n",
    "print(xs_matrix[1])\n",
    "print(xs_matrix[2])"
   ]
  },
  {
   "cell_type": "code",
   "execution_count": 75,
   "metadata": {},
   "outputs": [
    {
     "name": "stdout",
     "output_type": "stream",
     "text": [
      "[1 2 3 4 5]\n",
      "2\n",
      "2\n",
      "[1 2]\n"
     ]
    }
   ],
   "source": [
    "#ZUGREIFEN auf MATRIX\n",
    "print(xs_matrix[1])\n",
    "#erst Reihe dann Spalte\n",
    "print(xs_matrix[2][1])\n",
    "print(xs_matrix[2,1])\n",
    "print(xs_matrix[2,:2])"
   ]
  },
  {
   "cell_type": "code",
   "execution_count": 76,
   "metadata": {},
   "outputs": [
    {
     "name": "stdout",
     "output_type": "stream",
     "text": [
      "[1 2 3 4 5]\n",
      "[1 2]\n"
     ]
    }
   ],
   "source": [
    "#ZUGREIFEN auf MATRIX erst Reihe dann Spalte mit slicing\n",
    "print(xs_matrix[1])\n",
    "print(xs_matrix[2][:2])"
   ]
  },
  {
   "cell_type": "code",
   "execution_count": 79,
   "metadata": {},
   "outputs": [
    {
     "name": "stdout",
     "output_type": "stream",
     "text": [
      "[[10  2  3 10  5]\n",
      " [ 1  2  3 10  5]\n",
      " [ 1  2  3 10  5]]\n"
     ]
    }
   ],
   "source": [
    "#SETZEN VON EINZELNEN WERTEN IN EINER MATRIX\n",
    "xs_matrix=np.array([[1,2,3,4,5],\n",
    "             [1,2,3,4,5],\n",
    "            [1,2,3,4,5]])\n",
    "#erste ZEILE/REIHE und ERSTE SPALTE\n",
    "xs_matrix[0,0]=10\n",
    "#DOPPELPUNKT : bedeudet alles in diesem Fall ALLE REIHEN\n",
    "xs_matrix[:,3]=10\n",
    "print(xs_matrix)"
   ]
  },
  {
   "cell_type": "code",
   "execution_count": 83,
   "metadata": {},
   "outputs": [
    {
     "name": "stdout",
     "output_type": "stream",
     "text": [
      "[[101   2   3   4   5]\n",
      " [102   2   3   4   5]\n",
      " [103   2   3   4   5]]\n"
     ]
    }
   ],
   "source": [
    "#WERTE ALS ARRAY SETZEN\n",
    "#EINZELNE ZEILEN KÖNNEN AUCH DAMIT KOMPLETT UEBERSCHIREBEN WERDEN\n",
    "xs[:,0]=np.array([101,102,103])\n",
    "print(xs)"
   ]
  },
  {
   "cell_type": "code",
   "execution_count": 99,
   "metadata": {},
   "outputs": [
    {
     "name": "stdout",
     "output_type": "stream",
     "text": [
      "Möglichkeit 1\n",
      "[1 2 3 4 5 1 2 3 4 5 1 2 3 4 5]\n",
      "Möglichkeit 2\n",
      "[1 2 3 4 5 1 2 3 4 5 1 2 3 4 5]\n",
      "Möglichkeit 3\n",
      "[[1 2 3 4 5]\n",
      " [1 2 3 4 5]\n",
      " [1 2 3 4 5]]\n",
      "Möglichkeit 4\n",
      "[[1 2 3 4 5]\n",
      " [1 2 3 4 5]\n",
      " [1 2 3 4 5]]\n",
      "Möglichkeit 5\n",
      "[[1 2 3 4 5]\n",
      " [1 2 3 4 5]\n",
      " [1 2 3 4 5]]\n",
      "Möglichkeit 6\n",
      "MINUS 1 kann IMMER NUR IN EINEM PARAMETER ANGEGEBEN WERDEN AUTOMATISCHE WERTBERECHNUNG\n",
      "Moeglichkeit 7\n",
      "[[1 2 3 4 5 1 2 3 4 5 1 2 3 4 5]]\n",
      "Moeglichkeit 8\n",
      "[[1]\n",
      " [2]\n",
      " [3]\n",
      " [4]\n",
      " [5]\n",
      " [1]\n",
      " [2]\n",
      " [3]\n",
      " [4]\n",
      " [5]\n",
      " [1]\n",
      " [2]\n",
      " [3]\n",
      " [4]\n",
      " [5]]\n"
     ]
    }
   ],
   "source": [
    "## NUMPY RESHAPE\n",
    "import numpy as np\n",
    "#man kann über das numpy array auch verschatelte Listen übergeben\n",
    "xs_tupel=np.array([1,2,3,4,5])\n",
    "xs_matrix=np.array([[1,2,3,4,5],\n",
    "             [1,2,3,4,5],\n",
    "            [1,2,3,4,5]])\n",
    "#-1 MINUS 1 bedeutet es wird automatisch erkannt in welche DIMENSION Die MATRIX / ODER NUMPY MEHRDIMENSIONALES NUMPY ARRAY\n",
    "#umgewandelt werden soll\n",
    "print('Möglichkeit 1')\n",
    "print(xs_matrix.reshape(-1))\n",
    "#15 WERTE zu 15 WERTE EINZEILIG\n",
    "print('Möglichkeit 2')\n",
    "print(xs_matrix.reshape(15))\n",
    "#15 Spalten ZU 3 ZEILEN und 5 SPALTEN\n",
    "print('Möglichkeit 3')\n",
    "print(xs_matrix.reshape(3,5))\n",
    "#15 Spalten ZU 3 ZEILEN und 5 SPALTEN automatisch\n",
    "print('Möglichkeit 4')\n",
    "print(xs_matrix.reshape(3,-1))\n",
    "#15 Spalten ZU 3 ZEILEN automatisch und 5 SPALTEN\n",
    "print('Möglichkeit 5')\n",
    "print(xs_matrix.reshape(-1,5))\n",
    "#MINUS 1 kann IMMER NUR IN EINEM PARAMETER ANGEGEBEN WERDEN AUTOMATISCHE WERTBERECHNUNG\n",
    "print('Möglichkeit 6')\n",
    "try:\n",
    "    print(xs_matrix.reshape(-1,-1))\n",
    "except:\n",
    "    print('MINUS 1 kann IMMER NUR IN EINEM PARAMETER ANGEGEBEN WERDEN AUTOMATISCHE WERTBERECHNUNG')\n",
    "#EINE ZEILE/REIHE IST 1 und SPALTE IST AUTOMATISCH\n",
    "print('Moeglichkeit 7')\n",
    "print(xs_matrix.reshape(1,-1))\n",
    "#EINE ZEILE/ REIHE IST AUTOMATISCH ZEILE/REIHE IST 1 pro ZEILE/REIHE\n",
    "print('Moeglichkeit 8')\n",
    "print(xs_matrix.reshape(-1,1))"
   ]
  },
  {
   "cell_type": "code",
   "execution_count": 101,
   "metadata": {},
   "outputs": [
    {
     "name": "stdout",
     "output_type": "stream",
     "text": [
      "[[0.5 ]\n",
      " [0.75]\n",
      " [0.4 ]]\n"
     ]
    }
   ],
   "source": [
    "#SZENARIO WANN WIR DIE MOEGLICHKEIT 8 BENOETIGEN BEISPIELSWEISE BEI MASHINE LEARNING MODEL\n",
    "#WENN WIR FUER MACHINE LEARNING MODELL ARRAY IN FOLGENDER FORM BENOETIGEN DANN IST RESHAPE SEHR GEEIGNET\n",
    "machine_learning=np.array([0.5,0.75,0.4])\n",
    "print(machine_learning.reshape(-1,1))"
   ]
  },
  {
   "cell_type": "markdown",
   "metadata": {},
   "source": [
    "## NUMPY OPERATIONEN"
   ]
  },
  {
   "cell_type": "code",
   "execution_count": 106,
   "metadata": {},
   "outputs": [
    {
     "name": "stdout",
     "output_type": "stream",
     "text": [
      "1\n",
      "15\n",
      "6.333333333333333\n"
     ]
    }
   ],
   "source": [
    "import numpy as np\n",
    "\n",
    "xs= np.array([[1,2,3,4,5],\n",
    "             [1,2,3,4,5],\n",
    "             [11,12,13,14,15]])\n",
    "#FUER ALLE ELEMENTE MIN UND MAN UND DURCHSCHNITT AUSGELESEN ODER BERECHNET\n",
    "print(xs.min())\n",
    "print(xs.max())\n",
    "print(xs.mean())"
   ]
  },
  {
   "cell_type": "code",
   "execution_count": 108,
   "metadata": {},
   "outputs": [],
   "source": [
    "#PRO SPALTE ODER PRO DATENSATZ ENTSPRECHENDES MINIMUM ODER DATENSATZ ODER DURCHNITT BERECHNEN/AUSLESEN"
   ]
  },
  {
   "cell_type": "code",
   "execution_count": 110,
   "metadata": {},
   "outputs": [],
   "source": [
    "xs.min?"
   ]
  },
  {
   "cell_type": "code",
   "execution_count": 115,
   "metadata": {},
   "outputs": [
    {
     "name": "stdout",
     "output_type": "stream",
     "text": [
      "(3, 5)\n",
      "[1 2 3 4 5]\n",
      "[ 1  1 11]\n",
      "[4.33333333 5.33333333 6.33333333 7.33333333 8.33333333]\n",
      "[ 3.  3. 13.]\n"
     ]
    }
   ],
   "source": [
    "#xs.min\n",
    "#man sieht es gibt noch axis als Parameteruebergabe\n",
    "#dh auf welcher achse oder dimension minimum ausgelesen werden soll\n",
    "print(xs.shape)\n",
    "#pro SPALTEN, SPALTENWEISE MINIMUM AUSLESEN\n",
    "print(xs.min(axis=0))\n",
    "#pro ZEILEN, ZEILENWEISE MINIMUM AUSLESEN\n",
    "print(xs.min(axis=1))\n",
    "#pro SPALTEN, SPALTENNWEISE DURCHSCHNITT BERECHNEN\n",
    "print(xs.mean(axis=0))\n",
    "#pro ZEILEN, ZEILENWEISE DURCHSCHNITT BERECHNEN\n",
    "print(xs.mean(axis=1))\n",
    "#VORTEIL MAN SPART SICH EINIGES AN ARBEIT BEIM ERSTELLEN VON SCHLEIFEN IN PYTHON\n",
    "#SEHR VIEL KOMPAKTER UND EFFIZIENTER ALS WENN MAN IMMER EINE SCHLEIFE SCHREIBEN MUSS"
   ]
  },
  {
   "cell_type": "code",
   "execution_count": 119,
   "metadata": {},
   "outputs": [
    {
     "name": "stdout",
     "output_type": "stream",
     "text": [
      "4\n",
      "0\n",
      "2.625\n"
     ]
    }
   ],
   "source": [
    "#SZENARIO MAN HAT EIN NEURONALES NETZ\n",
    "#WIR MOECHTEN DIE POSITION AUSLESEN\n",
    "#DIESE AUSGABE BENOETIGT MAN WENN MAN DIE AUSGABE VON EINIGEn MACHINE LEARNING MODELLEN VERARBEITEN WILL\n",
    "x=np.array([1,2,3,4,5,3,2,1])\n",
    "print(np.argmax(x))\n",
    "print(np.argmin(x))\n",
    "print(np.mean(x))"
   ]
  }
 ],
 "metadata": {
  "kernelspec": {
   "display_name": "Python 3",
   "language": "python",
   "name": "python3"
  },
  "language_info": {
   "codemirror_mode": {
    "name": "ipython",
    "version": 3
   },
   "file_extension": ".py",
   "mimetype": "text/x-python",
   "name": "python",
   "nbconvert_exporter": "python",
   "pygments_lexer": "ipython3",
   "version": "3.7.6"
  }
 },
 "nbformat": 4,
 "nbformat_minor": 4
}
